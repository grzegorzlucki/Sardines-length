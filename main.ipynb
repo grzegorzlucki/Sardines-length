{
 "cells": [
  {
   "cell_type": "code",
   "execution_count": 1,
   "id": "b16bfb61",
   "metadata": {},
   "outputs": [],
   "source": [
    "import time\n",
    "import numpy as np\n",
    "import pandas as pd\n",
    "import math\n",
    "import scipy.stats as ss\n",
    "from scipy.special import chdtri\n",
    "start = time.time()"
   ]
  },
  {
   "cell_type": "code",
   "execution_count": 2,
   "id": "b6c5b272",
   "metadata": {},
   "outputs": [
    {
     "name": "stdout",
     "output_type": "stream",
     "text": [
      "Average: 16.2\n",
      "Standard deviation: 2.4657656011875906\n",
      "nan\n",
      "Time of work: 0.03 s\n"
     ]
    }
   ],
   "source": [
    "class Sardines:\n",
    "    \n",
    "    def __init__(self):\n",
    "        self.k = int(2)\n",
    "        self.alpha = float(0.1)\n",
    "        self.data = pd.read_csv(\"sardines.csv\", sep = \";\")\n",
    "        self.chisq, self.avg, self.std, self.chi_alpha= 0, 0, 0, 0\n",
    "        self.u, self.F, self.p, self.np, self.sqrs, self.sqrs_div = [], [], [], [], [], []\n",
    "        self.dof = self.data.shape[0] - self.k - 1\n",
    "        self.main()\n",
    "        \n",
    "    def average(self):\n",
    "        sum_avg = 0\n",
    "        for i in range(self.data.shape[0]):\n",
    "            x = (1 / 2) * (self.data.iloc[i, 0] + self.data.iloc[i, 1]) * self.data.iloc[i, 2]\n",
    "            sum_avg += x\n",
    "        self.avg = sum_avg / sum(self.data.iloc[:,2])\n",
    "        print(\"Average:\", self.avg)\n",
    "        \n",
    "    def sd(self):\n",
    "        self.average()\n",
    "        sum_avg_std = 0\n",
    "        for i in range(self.data.shape[0]):\n",
    "            x = math.pow(((1 / 2) * (self.data.iloc[i, 0] + self.data.iloc[i, 1]) - self.avg), 2) * self.data.iloc[i, 2]\n",
    "            sum_avg_std += x\n",
    "        self.std = math.sqrt(sum_avg_std / sum(self.data.iloc[:, 2]))\n",
    "        print(\"Standard deviation:\", self.std)\n",
    "        \n",
    "    def u_values(self):\n",
    "        self.sd()\n",
    "        for i in range(self.data.shape[0] - 1):\n",
    "            u_val = (self.data.iloc[i, 1] - self.avg) / self.std\n",
    "            self.u.append(u_val)\n",
    "        self.u.append(\"-\")\n",
    "    \n",
    "    def F_values(self):\n",
    "        self.u_values()\n",
    "        for i in range(self.data.shape[0] - 1):\n",
    "            F_val = ss.norm.cdf(self.u[i], loc=0, scale=1)\n",
    "            self.F.append(F_val)\n",
    "        self.F.append(\"-\")\n",
    "        \n",
    "    def p_values(self):\n",
    "        self.F_values()\n",
    "        sum = 0\n",
    "        self.p.append(self.F[0])\n",
    "        for i in range(1, self.data.shape[0] - 1):\n",
    "            value = self.F[i] - self.F[i - 1]\n",
    "            self.p.append(value)\n",
    "        for i in range(self.data.shape[0] - 1):\n",
    "            sum += self.p[i]\n",
    "        last = 1 - sum\n",
    "        self.p.append(last)\n",
    "    \n",
    "    def sqr_values(self):\n",
    "        self.p_values()\n",
    "        n = 0\n",
    "        for i in range(self.data.shape[0]):\n",
    "            n += self.data.iloc[i, self.data.shape[1]-1]\n",
    "        for i in range(self.data.shape[0]):\n",
    "            self.np.append(n * self.p[i])\n",
    "        for i in range(self.data.shape[0]):\n",
    "            self.sqrs.append((self.data.iloc[i, 2] - self.np[i]) ** 2)\n",
    "        for i in range(self.data.shape[0]):\n",
    "            self.sqrs_div.append((self.sqrs[i] / self.np[i]))\n",
    "            \n",
    "    def chi_sq(self):\n",
    "        self.sqr_values()\n",
    "        for i in range(self.data.shape[0]):\n",
    "            self.chisq += self.sqrs_div[i]\n",
    "        self.chi_alpha = chdtri(1 - self.alpha, self.dof)\n",
    "        print(self.chi_alpha)#6.251389\n",
    "        \n",
    "    def main(self):\n",
    "        self.chi_sq()\n",
    "\n",
    "sard = Sardines()\n",
    "print(\"Time of work:\", round((time.time() - start), 2) ,'s')"
   ]
  }
 ],
 "metadata": {
  "kernelspec": {
   "display_name": "Python 3 (ipykernel)",
   "language": "python",
   "name": "python3"
  },
  "language_info": {
   "codemirror_mode": {
    "name": "ipython",
    "version": 3
   },
   "file_extension": ".py",
   "mimetype": "text/x-python",
   "name": "python",
   "nbconvert_exporter": "python",
   "pygments_lexer": "ipython3",
   "version": "3.10.9"
  }
 },
 "nbformat": 4,
 "nbformat_minor": 5
}
