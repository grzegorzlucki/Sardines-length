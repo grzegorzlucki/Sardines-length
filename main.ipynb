{
 "cells": [
  {
   "cell_type": "code",
   "execution_count": 1,
   "id": "b16bfb61",
   "metadata": {},
   "outputs": [],
   "source": [
    "import time\n",
    "import numpy as np\n",
    "import pandas as pd\n",
    "import math\n",
    "import scipy.stats as ss\n",
    "start = time.time()"
   ]
  },
  {
   "cell_type": "code",
   "execution_count": 2,
   "id": "b6c5b272",
   "metadata": {},
   "outputs": [],
   "source": [
    "class Sardines:\n",
    "    k = int(2)\n",
    "    alpha = float(0.1)\n",
    "    data = pd.read_csv(\"sardines.csv\", sep = \";\")\n",
    "    \n",
    "    avg, std = 0, 0\n",
    "    u, F, p = [], [], []\n",
    "    \n",
    "    \n",
    "    def average(self):\n",
    "        sum_avg = 0\n",
    "        for i in range(self.data.shape[0]):\n",
    "            x = (1 / 2) * (self.data.iloc[i, 0] + self.data.iloc[i, 1]) * self.data.iloc[i, 2]\n",
    "            sum_avg += x\n",
    "        self.avg = sum_avg / sum(self.data.iloc[:,2])\n",
    "        print(\"Average:\", self.avg)\n",
    "        \n",
    "    def std(self):\n",
    "        sum_avg_std = 0\n",
    "        for i in range(self.data.shape[0]):\n",
    "            x = math.pow(((1 / 2) * (self.data.iloc[i, 0] + self.data.iloc[i, 1]) - self.avg), 2) * self.data.iloc[i, 2]\n",
    "            sum_avg_std += x\n",
    "        self.std = math.sqrt(sum_avg_std / sum(self.data.iloc[:, 2]))\n",
    "        print(\"Standard deviation:\", self.std)\n",
    "        \n",
    "    def u_values(self):\n",
    "        for i in range(self.data.shape[0] - 1):\n",
    "            u_val = (self.data.iloc[i, 1] - self.avg) / self.std\n",
    "            self.u.append(u_val)\n",
    "        print(\"u:\", self.u)\n",
    "    \n",
    "    def F_values(self):\n",
    "        for i in range(self.data.shape[0] - 1):\n",
    "            F_val = ss.norm.cdf(self.u[i], loc=0, scale=1)\n",
    "            self.F.append(F_val)\n",
    "        print(\"F:\", self.F)\n",
    "        \n",
    "    def p_values(self):\n",
    "        sum = 0\n",
    "        self.p.append(self.F[0])\n",
    "        for i in range(1, self.data.shape[0] - 1):\n",
    "            value = self.F[i] - self.F[i - 1]\n",
    "            self.p.append(value)\n",
    "        for i in range(self.data.shape[0] - 1):\n",
    "            sum += self.p[i]\n",
    "        last = 1 - sum\n",
    "        self.p.append(last)\n",
    "        print(\"p:\", self.p)\n",
    "    \n",
    "    def main(self):\n",
    "        self.average()\n",
    "        self.std()\n",
    "        self.u_values()\n",
    "        self.F_values()\n",
    "        self.p_values()\n",
    "        print(\"Time of work:\", round((time.time() - start), 2) ,'s')"
   ]
  },
  {
   "cell_type": "code",
   "execution_count": 3,
   "id": "422ccef0",
   "metadata": {},
   "outputs": [],
   "source": [
    "sard = Sardines()"
   ]
  },
  {
   "cell_type": "code",
   "execution_count": 4,
   "id": "afbce376",
   "metadata": {},
   "outputs": [
    {
     "name": "stdout",
     "output_type": "stream",
     "text": [
      "Average: 16.2\n",
      "Standard deviation: 2.4657656011875906\n",
      "u: [-1.7033249218730064, -0.8922178162191937, -0.08111071056538098, 0.7299963950884317, 1.5411035007422444]\n",
      "F: [0.044253639599093786, 0.1861380972520888, 0.4676769539779761, 0.767303805937867, 0.9383542010009955]\n",
      "p: [0.044253639599093786, 0.141884457652995, 0.2815388567258873, 0.29962685195989086, 0.17105039506312858, 0.061645798999004464]\n",
      "Time of work: 0.08 s\n"
     ]
    }
   ],
   "source": [
    "sard.main()"
   ]
  }
 ],
 "metadata": {
  "kernelspec": {
   "display_name": "Python 3 (ipykernel)",
   "language": "python",
   "name": "python3"
  },
  "language_info": {
   "codemirror_mode": {
    "name": "ipython",
    "version": 3
   },
   "file_extension": ".py",
   "mimetype": "text/x-python",
   "name": "python",
   "nbconvert_exporter": "python",
   "pygments_lexer": "ipython3",
   "version": "3.10.9"
  }
 },
 "nbformat": 4,
 "nbformat_minor": 5
}
